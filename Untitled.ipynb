{
 "cells": [
  {
   "cell_type": "code",
   "execution_count": 1,
   "id": "351908a4-429c-47e5-b7dc-e1d68dab4762",
   "metadata": {},
   "outputs": [],
   "source": [
    "#!pip install pycrf\n",
    "#!pip install sklearn-crfsuite\n",
    "\n",
    "import spacy\n",
    "import sklearn_crfsuite\n",
    "from sklearn_crfsuite import metrics\n",
    "\n",
    "model = spacy.load(\"en_core_web_sm\")"
   ]
  },
  {
   "cell_type": "code",
   "execution_count": 99,
   "id": "316a2d2b-66fe-41e6-abd7-afd48aefa6aa",
   "metadata": {},
   "outputs": [],
   "source": [
    "def process_and_join(filename):\n",
    "    result = []\n",
    "    current_ele = ''\n",
    "    for element in filename:\n",
    "        if element != '\\n':\n",
    "            current_ele = current_ele + element[:-1] +' '\n",
    "        else:\n",
    "            if current_ele:\n",
    "                result.append(current_ele)\n",
    "                current_ele = ''\n",
    "            if current_ele:\n",
    "                result.append(current_ele)\n",
    "    return result"
   ]
  },
  {
   "cell_type": "code",
   "execution_count": 100,
   "id": "04d2d20f-a28d-4680-85c4-fd47732c6e35",
   "metadata": {},
   "outputs": [
    {
     "data": {
      "text/plain": [
       "['All live births > or = 23 weeks at the University of Vermont in 1995 ( n = 2395 ) were retrospectively analyzed for delivery route , indication for cesarean , gestational age , parity , and practice group ( to reflect risk status ) ',\n",
       " 'The total cesarean rate was 14.4 % ( 344 of 2395 ) , and the primary rate was 11.4 % ( 244 of 2144 ) ',\n",
       " 'Abnormal presentation was the most common indication ( 25.6 % , 88 of 344 ) ']"
      ]
     },
     "execution_count": 100,
     "metadata": {},
     "output_type": "execute_result"
    }
   ],
   "source": [
    "with open('sample', 'r') as train_sent_file:\n",
    "    train_words = train_sent_file.readlines()\n",
    "\n",
    "process_and_join(train_words)\n"
   ]
  },
  {
   "cell_type": "code",
   "execution_count": null,
   "id": "f63e597b-c8e7-4f9a-8c1d-ba3abf56ccdf",
   "metadata": {},
   "outputs": [],
   "source": []
  }
 ],
 "metadata": {
  "kernelspec": {
   "display_name": "Python 3 (ipykernel)",
   "language": "python",
   "name": "python3"
  },
  "language_info": {
   "codemirror_mode": {
    "name": "ipython",
    "version": 3
   },
   "file_extension": ".py",
   "mimetype": "text/x-python",
   "name": "python",
   "nbconvert_exporter": "python",
   "pygments_lexer": "ipython3",
   "version": "3.9.13"
  }
 },
 "nbformat": 4,
 "nbformat_minor": 5
}
